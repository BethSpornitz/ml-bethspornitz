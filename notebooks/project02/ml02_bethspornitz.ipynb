{
 "cells": [
  {
   "cell_type": "markdown",
   "id": "7fb27b941602401d91542211134fc71a",
   "metadata": {},
   "source": [
    "\n",
    "# Project 2:  Titanic Data Exploration and Preparation\n",
    "**Author:** Beth Spornitz  \n",
    "**Date:** October 31, 2025   \n",
    "**Objective:**  Analyze and prepare the Titanic dataset for machine learning.\n"
   ]
  },
  {
   "cell_type": "markdown",
   "id": "acae54e37e7d407bbb7b55eff062a284",
   "metadata": {},
   "source": [
    "\n",
    "## Introduction\n",
    "This project uses a combination of Python and Markdown to create an initial data story of the sinking of the Titanic. Class, Sex, and Age will all be explored in relation to survival."
   ]
  },
  {
   "cell_type": "markdown",
   "id": "9a63283cbaf04dbcab1f6479b197f3a8",
   "metadata": {},
   "source": [
    "## Imports\n",
    "Import the necessary Python libraries for this notebook.  "
   ]
  },
  {
   "cell_type": "code",
   "execution_count": 199,
   "id": "8dd0d8092fe74a7c96281538738b07e2",
   "metadata": {},
   "outputs": [],
   "source": [
    "import pandas as pd\n",
    "import numpy as np\n",
    "import seaborn as sns\n",
    "import matplotlib.pyplot as plt\n",
    "from pandas.plotting import scatter_matrix\n",
    "from sklearn.model_selection import train_test_split, StratifiedShuffleSplit\n",
    "from IPython.display import display\n"
   ]
  },
  {
   "cell_type": "markdown",
   "id": "72eea5119410473aa328ad9291626812",
   "metadata": {},
   "source": [
    "## Section 1. Load and Explore the Data\n",
    "\n",
    "### 1.1 Load the dataset and display the first 10 rows\n",
    "\n"
   ]
  },
  {
   "cell_type": "code",
   "execution_count": 200,
   "id": "8edb47106e1a46a883d545849b8ab81b",
   "metadata": {},
   "outputs": [],
   "source": [
    "# Load Titanic dataset\n",
    "titanic = sns.load_dataset('titanic')"
   ]
  },
  {
   "cell_type": "code",
   "execution_count": 201,
   "id": "22210fe5",
   "metadata": {},
   "outputs": [
    {
     "name": "stdout",
     "output_type": "stream",
     "text": [
      "<class 'pandas.core.frame.DataFrame'>\n",
      "RangeIndex: 891 entries, 0 to 890\n",
      "Data columns (total 15 columns):\n",
      " #   Column       Non-Null Count  Dtype   \n",
      "---  ------       --------------  -----   \n",
      " 0   survived     891 non-null    int64   \n",
      " 1   pclass       891 non-null    int64   \n",
      " 2   sex          891 non-null    object  \n",
      " 3   age          714 non-null    float64 \n",
      " 4   sibsp        891 non-null    int64   \n",
      " 5   parch        891 non-null    int64   \n",
      " 6   fare         891 non-null    float64 \n",
      " 7   embarked     889 non-null    object  \n",
      " 8   class        891 non-null    category\n",
      " 9   who          891 non-null    object  \n",
      " 10  adult_male   891 non-null    bool    \n",
      " 11  deck         203 non-null    category\n",
      " 12  embark_town  889 non-null    object  \n",
      " 13  alive        891 non-null    object  \n",
      " 14  alone        891 non-null    bool    \n",
      "dtypes: bool(2), category(2), float64(2), int64(4), object(5)\n",
      "memory usage: 80.7+ KB\n"
     ]
    }
   ],
   "source": [
    "# Display basic info about the dataset\n",
    "titanic.info()"
   ]
  },
  {
   "cell_type": "code",
   "execution_count": 202,
   "id": "5d9b1e44",
   "metadata": {},
   "outputs": [
    {
     "data": {
      "text/html": [
       "<div>\n",
       "<style scoped>\n",
       "    .dataframe tbody tr th:only-of-type {\n",
       "        vertical-align: middle;\n",
       "    }\n",
       "\n",
       "    .dataframe tbody tr th {\n",
       "        vertical-align: top;\n",
       "    }\n",
       "\n",
       "    .dataframe thead th {\n",
       "        text-align: right;\n",
       "    }\n",
       "</style>\n",
       "<table border=\"1\" class=\"dataframe\">\n",
       "  <thead>\n",
       "    <tr style=\"text-align: right;\">\n",
       "      <th></th>\n",
       "      <th>survived</th>\n",
       "      <th>pclass</th>\n",
       "      <th>sex</th>\n",
       "      <th>age</th>\n",
       "      <th>sibsp</th>\n",
       "      <th>parch</th>\n",
       "      <th>fare</th>\n",
       "      <th>embarked</th>\n",
       "      <th>class</th>\n",
       "      <th>who</th>\n",
       "      <th>adult_male</th>\n",
       "      <th>deck</th>\n",
       "      <th>embark_town</th>\n",
       "      <th>alive</th>\n",
       "      <th>alone</th>\n",
       "    </tr>\n",
       "  </thead>\n",
       "  <tbody>\n",
       "    <tr>\n",
       "      <th>0</th>\n",
       "      <td>0</td>\n",
       "      <td>3</td>\n",
       "      <td>male</td>\n",
       "      <td>22.0</td>\n",
       "      <td>1</td>\n",
       "      <td>0</td>\n",
       "      <td>7.2500</td>\n",
       "      <td>S</td>\n",
       "      <td>Third</td>\n",
       "      <td>man</td>\n",
       "      <td>True</td>\n",
       "      <td>NaN</td>\n",
       "      <td>Southampton</td>\n",
       "      <td>no</td>\n",
       "      <td>False</td>\n",
       "    </tr>\n",
       "    <tr>\n",
       "      <th>1</th>\n",
       "      <td>1</td>\n",
       "      <td>1</td>\n",
       "      <td>female</td>\n",
       "      <td>38.0</td>\n",
       "      <td>1</td>\n",
       "      <td>0</td>\n",
       "      <td>71.2833</td>\n",
       "      <td>C</td>\n",
       "      <td>First</td>\n",
       "      <td>woman</td>\n",
       "      <td>False</td>\n",
       "      <td>C</td>\n",
       "      <td>Cherbourg</td>\n",
       "      <td>yes</td>\n",
       "      <td>False</td>\n",
       "    </tr>\n",
       "    <tr>\n",
       "      <th>2</th>\n",
       "      <td>1</td>\n",
       "      <td>3</td>\n",
       "      <td>female</td>\n",
       "      <td>26.0</td>\n",
       "      <td>0</td>\n",
       "      <td>0</td>\n",
       "      <td>7.9250</td>\n",
       "      <td>S</td>\n",
       "      <td>Third</td>\n",
       "      <td>woman</td>\n",
       "      <td>False</td>\n",
       "      <td>NaN</td>\n",
       "      <td>Southampton</td>\n",
       "      <td>yes</td>\n",
       "      <td>True</td>\n",
       "    </tr>\n",
       "    <tr>\n",
       "      <th>3</th>\n",
       "      <td>1</td>\n",
       "      <td>1</td>\n",
       "      <td>female</td>\n",
       "      <td>35.0</td>\n",
       "      <td>1</td>\n",
       "      <td>0</td>\n",
       "      <td>53.1000</td>\n",
       "      <td>S</td>\n",
       "      <td>First</td>\n",
       "      <td>woman</td>\n",
       "      <td>False</td>\n",
       "      <td>C</td>\n",
       "      <td>Southampton</td>\n",
       "      <td>yes</td>\n",
       "      <td>False</td>\n",
       "    </tr>\n",
       "    <tr>\n",
       "      <th>4</th>\n",
       "      <td>0</td>\n",
       "      <td>3</td>\n",
       "      <td>male</td>\n",
       "      <td>35.0</td>\n",
       "      <td>0</td>\n",
       "      <td>0</td>\n",
       "      <td>8.0500</td>\n",
       "      <td>S</td>\n",
       "      <td>Third</td>\n",
       "      <td>man</td>\n",
       "      <td>True</td>\n",
       "      <td>NaN</td>\n",
       "      <td>Southampton</td>\n",
       "      <td>no</td>\n",
       "      <td>True</td>\n",
       "    </tr>\n",
       "    <tr>\n",
       "      <th>5</th>\n",
       "      <td>0</td>\n",
       "      <td>3</td>\n",
       "      <td>male</td>\n",
       "      <td>NaN</td>\n",
       "      <td>0</td>\n",
       "      <td>0</td>\n",
       "      <td>8.4583</td>\n",
       "      <td>Q</td>\n",
       "      <td>Third</td>\n",
       "      <td>man</td>\n",
       "      <td>True</td>\n",
       "      <td>NaN</td>\n",
       "      <td>Queenstown</td>\n",
       "      <td>no</td>\n",
       "      <td>True</td>\n",
       "    </tr>\n",
       "    <tr>\n",
       "      <th>6</th>\n",
       "      <td>0</td>\n",
       "      <td>1</td>\n",
       "      <td>male</td>\n",
       "      <td>54.0</td>\n",
       "      <td>0</td>\n",
       "      <td>0</td>\n",
       "      <td>51.8625</td>\n",
       "      <td>S</td>\n",
       "      <td>First</td>\n",
       "      <td>man</td>\n",
       "      <td>True</td>\n",
       "      <td>E</td>\n",
       "      <td>Southampton</td>\n",
       "      <td>no</td>\n",
       "      <td>True</td>\n",
       "    </tr>\n",
       "    <tr>\n",
       "      <th>7</th>\n",
       "      <td>0</td>\n",
       "      <td>3</td>\n",
       "      <td>male</td>\n",
       "      <td>2.0</td>\n",
       "      <td>3</td>\n",
       "      <td>1</td>\n",
       "      <td>21.0750</td>\n",
       "      <td>S</td>\n",
       "      <td>Third</td>\n",
       "      <td>child</td>\n",
       "      <td>False</td>\n",
       "      <td>NaN</td>\n",
       "      <td>Southampton</td>\n",
       "      <td>no</td>\n",
       "      <td>False</td>\n",
       "    </tr>\n",
       "    <tr>\n",
       "      <th>8</th>\n",
       "      <td>1</td>\n",
       "      <td>3</td>\n",
       "      <td>female</td>\n",
       "      <td>27.0</td>\n",
       "      <td>0</td>\n",
       "      <td>2</td>\n",
       "      <td>11.1333</td>\n",
       "      <td>S</td>\n",
       "      <td>Third</td>\n",
       "      <td>woman</td>\n",
       "      <td>False</td>\n",
       "      <td>NaN</td>\n",
       "      <td>Southampton</td>\n",
       "      <td>yes</td>\n",
       "      <td>False</td>\n",
       "    </tr>\n",
       "    <tr>\n",
       "      <th>9</th>\n",
       "      <td>1</td>\n",
       "      <td>2</td>\n",
       "      <td>female</td>\n",
       "      <td>14.0</td>\n",
       "      <td>1</td>\n",
       "      <td>0</td>\n",
       "      <td>30.0708</td>\n",
       "      <td>C</td>\n",
       "      <td>Second</td>\n",
       "      <td>child</td>\n",
       "      <td>False</td>\n",
       "      <td>NaN</td>\n",
       "      <td>Cherbourg</td>\n",
       "      <td>yes</td>\n",
       "      <td>False</td>\n",
       "    </tr>\n",
       "  </tbody>\n",
       "</table>\n",
       "</div>"
      ],
      "text/plain": [
       "   survived  pclass     sex   age  sibsp  parch     fare embarked   class  \\\n",
       "0         0       3    male  22.0      1      0   7.2500        S   Third   \n",
       "1         1       1  female  38.0      1      0  71.2833        C   First   \n",
       "2         1       3  female  26.0      0      0   7.9250        S   Third   \n",
       "3         1       1  female  35.0      1      0  53.1000        S   First   \n",
       "4         0       3    male  35.0      0      0   8.0500        S   Third   \n",
       "5         0       3    male   NaN      0      0   8.4583        Q   Third   \n",
       "6         0       1    male  54.0      0      0  51.8625        S   First   \n",
       "7         0       3    male   2.0      3      1  21.0750        S   Third   \n",
       "8         1       3  female  27.0      0      2  11.1333        S   Third   \n",
       "9         1       2  female  14.0      1      0  30.0708        C  Second   \n",
       "\n",
       "     who  adult_male deck  embark_town alive  alone  \n",
       "0    man        True  NaN  Southampton    no  False  \n",
       "1  woman       False    C    Cherbourg   yes  False  \n",
       "2  woman       False  NaN  Southampton   yes   True  \n",
       "3  woman       False    C  Southampton   yes  False  \n",
       "4    man        True  NaN  Southampton    no   True  \n",
       "5    man        True  NaN   Queenstown    no   True  \n",
       "6    man        True    E  Southampton    no   True  \n",
       "7  child       False  NaN  Southampton    no  False  \n",
       "8  woman       False  NaN  Southampton   yes  False  \n",
       "9  child       False  NaN    Cherbourg   yes  False  "
      ]
     },
     "execution_count": 202,
     "metadata": {},
     "output_type": "execute_result"
    }
   ],
   "source": [
    "# Display the first 10 rows\n",
    "titanic.head(10)"
   ]
  },
  {
   "cell_type": "markdown",
   "id": "10185d26023b46108eb7d9f57d49d2b3",
   "metadata": {},
   "source": [
    "### 1.2 Check for missing values and display summary statistics\n"
   ]
  },
  {
   "cell_type": "code",
   "execution_count": 203,
   "id": "8763a12b2bbd4a93a75aff182afb95dc",
   "metadata": {},
   "outputs": [
    {
     "data": {
      "text/plain": [
       "survived         0\n",
       "pclass           0\n",
       "sex              0\n",
       "age            177\n",
       "sibsp            0\n",
       "parch            0\n",
       "fare             0\n",
       "embarked         2\n",
       "class            0\n",
       "who              0\n",
       "adult_male       0\n",
       "deck           688\n",
       "embark_town      2\n",
       "alive            0\n",
       "alone            0\n",
       "dtype: int64"
      ]
     },
     "execution_count": 203,
     "metadata": {},
     "output_type": "execute_result"
    }
   ],
   "source": [
    "\n",
    "# Check for missing values\n",
    "titanic.isnull().sum()\n",
    "\n",
    "\n",
    "\n",
    "\n"
   ]
  },
  {
   "cell_type": "code",
   "execution_count": 204,
   "id": "3ef3ab73",
   "metadata": {},
   "outputs": [
    {
     "data": {
      "text/html": [
       "<div>\n",
       "<style scoped>\n",
       "    .dataframe tbody tr th:only-of-type {\n",
       "        vertical-align: middle;\n",
       "    }\n",
       "\n",
       "    .dataframe tbody tr th {\n",
       "        vertical-align: top;\n",
       "    }\n",
       "\n",
       "    .dataframe thead th {\n",
       "        text-align: right;\n",
       "    }\n",
       "</style>\n",
       "<table border=\"1\" class=\"dataframe\">\n",
       "  <thead>\n",
       "    <tr style=\"text-align: right;\">\n",
       "      <th></th>\n",
       "      <th>survived</th>\n",
       "      <th>pclass</th>\n",
       "      <th>age</th>\n",
       "      <th>sibsp</th>\n",
       "      <th>parch</th>\n",
       "      <th>fare</th>\n",
       "    </tr>\n",
       "  </thead>\n",
       "  <tbody>\n",
       "    <tr>\n",
       "      <th>count</th>\n",
       "      <td>891.000000</td>\n",
       "      <td>891.000000</td>\n",
       "      <td>714.000000</td>\n",
       "      <td>891.000000</td>\n",
       "      <td>891.000000</td>\n",
       "      <td>891.000000</td>\n",
       "    </tr>\n",
       "    <tr>\n",
       "      <th>mean</th>\n",
       "      <td>0.383838</td>\n",
       "      <td>2.308642</td>\n",
       "      <td>29.699118</td>\n",
       "      <td>0.523008</td>\n",
       "      <td>0.381594</td>\n",
       "      <td>32.204208</td>\n",
       "    </tr>\n",
       "    <tr>\n",
       "      <th>std</th>\n",
       "      <td>0.486592</td>\n",
       "      <td>0.836071</td>\n",
       "      <td>14.526497</td>\n",
       "      <td>1.102743</td>\n",
       "      <td>0.806057</td>\n",
       "      <td>49.693429</td>\n",
       "    </tr>\n",
       "    <tr>\n",
       "      <th>min</th>\n",
       "      <td>0.000000</td>\n",
       "      <td>1.000000</td>\n",
       "      <td>0.420000</td>\n",
       "      <td>0.000000</td>\n",
       "      <td>0.000000</td>\n",
       "      <td>0.000000</td>\n",
       "    </tr>\n",
       "    <tr>\n",
       "      <th>25%</th>\n",
       "      <td>0.000000</td>\n",
       "      <td>2.000000</td>\n",
       "      <td>20.125000</td>\n",
       "      <td>0.000000</td>\n",
       "      <td>0.000000</td>\n",
       "      <td>7.910400</td>\n",
       "    </tr>\n",
       "    <tr>\n",
       "      <th>50%</th>\n",
       "      <td>0.000000</td>\n",
       "      <td>3.000000</td>\n",
       "      <td>28.000000</td>\n",
       "      <td>0.000000</td>\n",
       "      <td>0.000000</td>\n",
       "      <td>14.454200</td>\n",
       "    </tr>\n",
       "    <tr>\n",
       "      <th>75%</th>\n",
       "      <td>1.000000</td>\n",
       "      <td>3.000000</td>\n",
       "      <td>38.000000</td>\n",
       "      <td>1.000000</td>\n",
       "      <td>0.000000</td>\n",
       "      <td>31.000000</td>\n",
       "    </tr>\n",
       "    <tr>\n",
       "      <th>max</th>\n",
       "      <td>1.000000</td>\n",
       "      <td>3.000000</td>\n",
       "      <td>80.000000</td>\n",
       "      <td>8.000000</td>\n",
       "      <td>6.000000</td>\n",
       "      <td>512.329200</td>\n",
       "    </tr>\n",
       "  </tbody>\n",
       "</table>\n",
       "</div>"
      ],
      "text/plain": [
       "         survived      pclass         age       sibsp       parch        fare\n",
       "count  891.000000  891.000000  714.000000  891.000000  891.000000  891.000000\n",
       "mean     0.383838    2.308642   29.699118    0.523008    0.381594   32.204208\n",
       "std      0.486592    0.836071   14.526497    1.102743    0.806057   49.693429\n",
       "min      0.000000    1.000000    0.420000    0.000000    0.000000    0.000000\n",
       "25%      0.000000    2.000000   20.125000    0.000000    0.000000    7.910400\n",
       "50%      0.000000    3.000000   28.000000    0.000000    0.000000   14.454200\n",
       "75%      1.000000    3.000000   38.000000    1.000000    0.000000   31.000000\n",
       "max      1.000000    3.000000   80.000000    8.000000    6.000000  512.329200"
      ]
     },
     "execution_count": 204,
     "metadata": {},
     "output_type": "execute_result"
    }
   ],
   "source": [
    "# Display summary statistics\n",
    "titanic.describe()"
   ]
  },
  {
   "cell_type": "code",
   "execution_count": 205,
   "id": "846d05ce",
   "metadata": {},
   "outputs": [
    {
     "data": {
      "text/html": [
       "<div>\n",
       "<style scoped>\n",
       "    .dataframe tbody tr th:only-of-type {\n",
       "        vertical-align: middle;\n",
       "    }\n",
       "\n",
       "    .dataframe tbody tr th {\n",
       "        vertical-align: top;\n",
       "    }\n",
       "\n",
       "    .dataframe thead th {\n",
       "        text-align: right;\n",
       "    }\n",
       "</style>\n",
       "<table border=\"1\" class=\"dataframe\">\n",
       "  <thead>\n",
       "    <tr style=\"text-align: right;\">\n",
       "      <th></th>\n",
       "      <th>survived</th>\n",
       "      <th>pclass</th>\n",
       "      <th>age</th>\n",
       "      <th>sibsp</th>\n",
       "      <th>parch</th>\n",
       "      <th>fare</th>\n",
       "      <th>adult_male</th>\n",
       "      <th>alone</th>\n",
       "    </tr>\n",
       "  </thead>\n",
       "  <tbody>\n",
       "    <tr>\n",
       "      <th>survived</th>\n",
       "      <td>1.000000</td>\n",
       "      <td>-0.338481</td>\n",
       "      <td>-0.077221</td>\n",
       "      <td>-0.035322</td>\n",
       "      <td>0.081629</td>\n",
       "      <td>0.257307</td>\n",
       "      <td>-0.557080</td>\n",
       "      <td>-0.203367</td>\n",
       "    </tr>\n",
       "    <tr>\n",
       "      <th>pclass</th>\n",
       "      <td>-0.338481</td>\n",
       "      <td>1.000000</td>\n",
       "      <td>-0.369226</td>\n",
       "      <td>0.083081</td>\n",
       "      <td>0.018443</td>\n",
       "      <td>-0.549500</td>\n",
       "      <td>0.094035</td>\n",
       "      <td>0.135207</td>\n",
       "    </tr>\n",
       "    <tr>\n",
       "      <th>age</th>\n",
       "      <td>-0.077221</td>\n",
       "      <td>-0.369226</td>\n",
       "      <td>1.000000</td>\n",
       "      <td>-0.308247</td>\n",
       "      <td>-0.189119</td>\n",
       "      <td>0.096067</td>\n",
       "      <td>0.280328</td>\n",
       "      <td>0.198270</td>\n",
       "    </tr>\n",
       "    <tr>\n",
       "      <th>sibsp</th>\n",
       "      <td>-0.035322</td>\n",
       "      <td>0.083081</td>\n",
       "      <td>-0.308247</td>\n",
       "      <td>1.000000</td>\n",
       "      <td>0.414838</td>\n",
       "      <td>0.159651</td>\n",
       "      <td>-0.253586</td>\n",
       "      <td>-0.584471</td>\n",
       "    </tr>\n",
       "    <tr>\n",
       "      <th>parch</th>\n",
       "      <td>0.081629</td>\n",
       "      <td>0.018443</td>\n",
       "      <td>-0.189119</td>\n",
       "      <td>0.414838</td>\n",
       "      <td>1.000000</td>\n",
       "      <td>0.216225</td>\n",
       "      <td>-0.349943</td>\n",
       "      <td>-0.583398</td>\n",
       "    </tr>\n",
       "    <tr>\n",
       "      <th>fare</th>\n",
       "      <td>0.257307</td>\n",
       "      <td>-0.549500</td>\n",
       "      <td>0.096067</td>\n",
       "      <td>0.159651</td>\n",
       "      <td>0.216225</td>\n",
       "      <td>1.000000</td>\n",
       "      <td>-0.182024</td>\n",
       "      <td>-0.271832</td>\n",
       "    </tr>\n",
       "    <tr>\n",
       "      <th>adult_male</th>\n",
       "      <td>-0.557080</td>\n",
       "      <td>0.094035</td>\n",
       "      <td>0.280328</td>\n",
       "      <td>-0.253586</td>\n",
       "      <td>-0.349943</td>\n",
       "      <td>-0.182024</td>\n",
       "      <td>1.000000</td>\n",
       "      <td>0.404744</td>\n",
       "    </tr>\n",
       "    <tr>\n",
       "      <th>alone</th>\n",
       "      <td>-0.203367</td>\n",
       "      <td>0.135207</td>\n",
       "      <td>0.198270</td>\n",
       "      <td>-0.584471</td>\n",
       "      <td>-0.583398</td>\n",
       "      <td>-0.271832</td>\n",
       "      <td>0.404744</td>\n",
       "      <td>1.000000</td>\n",
       "    </tr>\n",
       "  </tbody>\n",
       "</table>\n",
       "</div>"
      ],
      "text/plain": [
       "            survived    pclass       age     sibsp     parch      fare  \\\n",
       "survived    1.000000 -0.338481 -0.077221 -0.035322  0.081629  0.257307   \n",
       "pclass     -0.338481  1.000000 -0.369226  0.083081  0.018443 -0.549500   \n",
       "age        -0.077221 -0.369226  1.000000 -0.308247 -0.189119  0.096067   \n",
       "sibsp      -0.035322  0.083081 -0.308247  1.000000  0.414838  0.159651   \n",
       "parch       0.081629  0.018443 -0.189119  0.414838  1.000000  0.216225   \n",
       "fare        0.257307 -0.549500  0.096067  0.159651  0.216225  1.000000   \n",
       "adult_male -0.557080  0.094035  0.280328 -0.253586 -0.349943 -0.182024   \n",
       "alone      -0.203367  0.135207  0.198270 -0.584471 -0.583398 -0.271832   \n",
       "\n",
       "            adult_male     alone  \n",
       "survived     -0.557080 -0.203367  \n",
       "pclass        0.094035  0.135207  \n",
       "age           0.280328  0.198270  \n",
       "sibsp        -0.253586 -0.584471  \n",
       "parch        -0.349943 -0.583398  \n",
       "fare         -0.182024 -0.271832  \n",
       "adult_male    1.000000  0.404744  \n",
       "alone         0.404744  1.000000  "
      ]
     },
     "execution_count": 205,
     "metadata": {},
     "output_type": "execute_result"
    }
   ],
   "source": [
    "# Display correlations (numeric only)\n",
    "titanic.corr(numeric_only=True)"
   ]
  },
  {
   "cell_type": "markdown",
   "id": "9c001a63",
   "metadata": {},
   "source": [
    "Reflection 1:\n",
    "1) How many data instances are there?  891  \n",
    "2) How many features are there? 15  \n",
    "3) What are the names?  ['survived', 'pclass', 'sex', 'age', 'sibsp', 'parch', 'fare', 'embarked', 'class', 'who', 'adult_male', 'deck', 'embark_town', 'alive', 'alone']  \n",
    "4) Are there any missing values?  Yes there are missing values.  \n",
    "   - age is missing 177  \n",
    "   - deck is missing 688  \n",
    "   - embarked is missing 2  \n",
    "   - embark_town is missing 2  \n",
    "5) Are there any non-numeric features? Yes. Sex, embarked, class, who, deck, embark_town, and alive.  \n",
    "6) Are the data instances sorted on any of the attributes?  No.  \n",
    "7) What are the units of age? Years  \n",
    "8) What are the minimum, median and max age?  \n",
    "   - Minimum -.42  \n",
    "   - Median - 25  \n",
    "   - Maximum - 80  \n",
    "9)  What two different features have the highest correlation?  Fare and Passenger Class have a high correlation.  \n",
    "10) Are there any categorical features that might be useful for prediction?  Passenger Class and Sex  "
   ]
  },
  {
   "cell_type": "markdown",
   "id": "7623eae2785240b9bd12b16a66d81610",
   "metadata": {},
   "source": [
    "## Section 2. Data Exploration and Preparation\n",
    "We'll explore data patterns, handle missing values, and create new features."
   ]
  },
  {
   "cell_type": "markdown",
   "id": "04cf7817",
   "metadata": {},
   "source": [
    "### 2.1 Explore Data Patterns and Distributions\n",
    "We'll visualize relationships between numerical and categorical variables using scatter plots, histograms, and count plots.\n"
   ]
  },
  {
   "cell_type": "code",
   "execution_count": 206,
   "id": "7cdc8c89c7104fffa095e18ddfef8986",
   "metadata": {},
   "outputs": [
    {
     "data": {
      "image/png": "[encoded data removed]",
      "text/plain": [
       "<Figure size 1000x1000 with 9 Axes>"
      ]
     },
     "metadata": {},
     "output_type": "display_data"
    }
   ],
   "source": [
    "# Scatter matrix (numeric attributes)\n",
    "attributes = ['age', 'fare', 'pclass']\n",
    "scatter_matrix(titanic[attributes], figsize=(10, 10))\n",
    "plt.show()"
   ]
  },
  {
   "cell_type": "code",
   "execution_count": 207,
   "id": "de9382e0",
   "metadata": {},
   "outputs": [
    {
     "data": {
      "image/png": "[encoded data removed]",
      "text/plain": [
       "<Figure size 800x600 with 1 Axes>"
      ]
     },
     "metadata": {},
     "output_type": "display_data"
    }
   ],
   "source": [
    "# Scatter plot: Age vs Fare by Gender\n",
    "# Define colors for male/female\n",
    "colors = titanic['sex'].map({'male': 'blue', 'female': 'red'})\n",
    "\n",
    "plt.figure(figsize=(8, 6))\n",
    "plt.scatter(\n",
    "    titanic['age'],\n",
    "    titanic['fare'],\n",
    "    c=colors,\n",
    "    alpha=0.7,\n",
    "    edgecolor='k',\n",
    "    s=60\n",
    ")\n",
    "\n",
    "plt.xlabel('Age')\n",
    "plt.ylabel('Fare')\n",
    "plt.title('Age vs Fare by Gender')\n",
    "plt.legend(handles=[\n",
    "    plt.Line2D([0], [0], marker='o', color='w', label='Male', markerfacecolor='blue', markersize=8),\n",
    "    plt.Line2D([0], [0], marker='o', color='w', label='Female', markerfacecolor='red', markersize=8)\n",
    "])\n",
    "plt.show()\n"
   ]
  },
  {
   "cell_type": "code",
   "execution_count": 208,
   "id": "d8b6fa4e",
   "metadata": {},
   "outputs": [
    {
     "data": {
      "image/png": "[encoded data removed]",
      "text/plain": [
       "<Figure size 640x480 with 1 Axes>"
      ]
     },
     "metadata": {},
     "output_type": "display_data"
    }
   ],
   "source": [
    "# Histogram of Age\n",
    "sns.histplot(titanic['age'], kde=True)\n",
    "plt.title('Age Distribution')\n",
    "plt.show()\n"
   ]
  },
  {
   "cell_type": "code",
   "execution_count": 209,
   "id": "7f7afaea",
   "metadata": {},
   "outputs": [
    {
     "data": {
      "image/png": "[encoded data removed]",
      "text/plain": [
       "<Figure size 800x600 with 1 Axes>"
      ]
     },
     "metadata": {},
     "output_type": "display_data"
    }
   ],
   "source": [
    "# Count Plot: Class vs Survival\n",
    "plt.figure(figsize=(8, 6))\n",
    "sns.countplot(x='class', hue='survived', data=titanic, palette='Set1')\n",
    "plt.title('Class Distribution by Survival')\n",
    "plt.xlabel('Passenger Class')\n",
    "plt.ylabel('Count')\n",
    "\n",
    "# Customize legend to clarify 0 and 1 meaning\n",
    "plt.legend(title='Survival Status', labels=['0 = Did Not Survive', '1 = Survived'])\n",
    "plt.show()\n"
   ]
  },
  {
   "cell_type": "markdown",
   "id": "c3cde06b",
   "metadata": {},
   "source": [
    "Survival Table by Class"
   ]
  },
  {
   "cell_type": "code",
   "execution_count": 210,
   "id": "cccbed90",
   "metadata": {},
   "outputs": [
    {
     "data": {
      "text/html": [
       "<div>\n",
       "<style scoped>\n",
       "    .dataframe tbody tr th:only-of-type {\n",
       "        vertical-align: middle;\n",
       "    }\n",
       "\n",
       "    .dataframe tbody tr th {\n",
       "        vertical-align: top;\n",
       "    }\n",
       "\n",
       "    .dataframe thead th {\n",
       "        text-align: right;\n",
       "    }\n",
       "</style>\n",
       "<table border=\"1\" class=\"dataframe\">\n",
       "  <thead>\n",
       "    <tr style=\"text-align: right;\">\n",
       "      <th></th>\n",
       "      <th>Did Not Survive (0)</th>\n",
       "      <th>Survived (1)</th>\n",
       "      <th>Survival Rate</th>\n",
       "    </tr>\n",
       "    <tr>\n",
       "      <th>class</th>\n",
       "      <th></th>\n",
       "      <th></th>\n",
       "      <th></th>\n",
       "    </tr>\n",
       "  </thead>\n",
       "  <tbody>\n",
       "    <tr>\n",
       "      <th>First</th>\n",
       "      <td>80</td>\n",
       "      <td>136</td>\n",
       "      <td>0.63</td>\n",
       "    </tr>\n",
       "    <tr>\n",
       "      <th>Second</th>\n",
       "      <td>97</td>\n",
       "      <td>87</td>\n",
       "      <td>0.47</td>\n",
       "    </tr>\n",
       "    <tr>\n",
       "      <th>Third</th>\n",
       "      <td>372</td>\n",
       "      <td>119</td>\n",
       "      <td>0.24</td>\n",
       "    </tr>\n",
       "  </tbody>\n",
       "</table>\n",
       "</div>"
      ],
      "text/plain": [
       "        Did Not Survive (0)  Survived (1)  Survival Rate\n",
       "class                                                   \n",
       "First                    80           136           0.63\n",
       "Second                   97            87           0.47\n",
       "Third                   372           119           0.24"
      ]
     },
     "execution_count": 210,
     "metadata": {},
     "output_type": "execute_result"
    }
   ],
   "source": [
    "# Survival counts by passenger class\n",
    "survival_table = (\n",
    "    titanic.groupby('class', observed=False)['survived']\n",
    "    .value_counts()\n",
    "    .unstack()\n",
    "    .fillna(0)\n",
    ")\n",
    "\n",
    "# Add survival rate column\n",
    "survival_table['Survival Rate'] = (\n",
    "    survival_table[1] / (survival_table[0] + survival_table[1])\n",
    ").round(2)\n",
    "\n",
    "# Rename columns for clarity\n",
    "survival_table.columns = ['Did Not Survive (0)', 'Survived (1)', 'Survival Rate']\n",
    "\n",
    "# Display the formatted table\n",
    "survival_table\n"
   ]
  },
  {
   "cell_type": "markdown",
   "id": "33999bc3",
   "metadata": {},
   "source": [
    "#### Reflection 2.1\n",
    "1. What patterns or anomalies do you notice? \n",
    "   - The scatterplot shows that fare and passenger class are inversely related.  This makes sense becaue passengers in a higher class number (3) paid lower fares. \n",
    "   - The age distribution is skewed slightly to the right indicating more passegers were on the younger side.\n",
    "2. Do any features stand out as potential predictors?   \n",
    "   - Yes.  Sex, passeger class, and fare stand out.  \n",
    "3. Are there visible class imbalances?  \n",
    "   - Yes.  More 3rd class passengers perished than the other two classes.  However, there were higher numbers of 3rd class passengers on board.  From the survival table, 63% of first class passengers survived while only 24% of 3rd class passengers.  \n"
   ]
  },
  {
   "cell_type": "markdown",
   "id": "f2f732f2",
   "metadata": {},
   "source": [
    "### 2.2 Handle Missing Values and Clean Data"
   ]
  },
  {
   "cell_type": "markdown",
   "id": "70ce2dc3",
   "metadata": {},
   "source": [
    "\n",
    "**Goal.** Fill essential missing values in a way that’s safe to re-run and won’t trigger chained-assignment warnings in newer versions of pandas.\n",
    "\n",
    "**Plan**\n",
    "- `age` → fill with **median** (numeric).\n",
    "- `embark_town` → fill with **mode** (most frequent string).\n",
    "- `embarked` → fill with **mode** (most frequent code: C/Q/S).  \n",
    "  *(We’ll convert it to numbers in **2.3 Feature Engineering**.)*\n",
    "- Leave `deck` as-is (very sparse); optionally engineer a flag later.\n",
    "\n",
    "> **Why no `inplace=True` on slices?**  \n",
    "> In pandas 3.0+, chained assignment on a column slice may not write back to the original DataFrame.  \n",
    "> Assigning the filled result **back to the column** (e.g., `df['col'] = df['col'].fillna(...)`) is the recommended pattern.\n",
    "\n",
    "### 2.2.1 Inspect Missing Values\n"
   ]
  },
  {
   "cell_type": "code",
   "execution_count": 211,
   "id": "7a278c0d",
   "metadata": {},
   "outputs": [
    {
     "data": {
      "text/plain": [
       "deck           688\n",
       "age            177\n",
       "embarked         2\n",
       "embark_town      2\n",
       "sex              0\n",
       "pclass           0\n",
       "survived         0\n",
       "fare             0\n",
       "parch            0\n",
       "sibsp            0\n",
       "class            0\n",
       "adult_male       0\n",
       "dtype: int64"
      ]
     },
     "execution_count": 211,
     "metadata": {},
     "output_type": "execute_result"
    }
   ],
   "source": [
    "# Show the largest sources of missingness\n",
    "titanic.isnull().sum().sort_values(ascending=False).head(12)"
   ]
  },
  {
   "cell_type": "markdown",
   "id": "d3dc7ea9",
   "metadata": {},
   "source": [
    "### 2.2.2 Fill Essential Missing Values (idempotent)\n",
    "We fill `age` with its median and `embark_town` / `embarked` with their modes.  \n",
    "This cell is safe to run multiple times."
   ]
  },
  {
   "cell_type": "code",
   "execution_count": 212,
   "id": "0b7fbae7",
   "metadata": {},
   "outputs": [],
   "source": [
    "# Ensure we have a writable copy (harmless if already a DataFrame)\n",
    "titanic = titanic.copy()\n",
    "\n",
    "# Fill numeric\n",
    "titanic['age'] = titanic['age'].fillna(titanic['age'].median())\n",
    "\n",
    "# Fill categorical strings with mode BEFORE any mapping we’ll do later\n",
    "titanic['embark_town'] = titanic['embark_town'].fillna(titanic['embark_town'].mode()[0])\n",
    "titanic['embarked']    = titanic['embarked'].fillna(titanic['embarked'].mode()[0])\n"
   ]
  },
  {
   "cell_type": "markdown",
   "id": "8dcb9ff3",
   "metadata": {},
   "source": [
    "### 2.2.3 Verify the Fixes\n",
    "We expect `age`, `embark_town`, and `embarked` to have **0** missing values after fills."
   ]
  },
  {
   "cell_type": "code",
   "execution_count": 213,
   "id": "a39acadc",
   "metadata": {},
   "outputs": [
    {
     "name": "stdout",
     "output_type": "stream",
     "text": [
      "Null counts (key columns after fill):\n",
      "age            0\n",
      "embark_town    0\n",
      "embarked       0\n",
      "dtype: int64\n",
      "\n",
      "Sample of filled columns:\n"
     ]
    },
    {
     "data": {
      "text/html": [
       "<div>\n",
       "<style scoped>\n",
       "    .dataframe tbody tr th:only-of-type {\n",
       "        vertical-align: middle;\n",
       "    }\n",
       "\n",
       "    .dataframe tbody tr th {\n",
       "        vertical-align: top;\n",
       "    }\n",
       "\n",
       "    .dataframe thead th {\n",
       "        text-align: right;\n",
       "    }\n",
       "</style>\n",
       "<table border=\"1\" class=\"dataframe\">\n",
       "  <thead>\n",
       "    <tr style=\"text-align: right;\">\n",
       "      <th></th>\n",
       "      <th>age</th>\n",
       "      <th>embark_town</th>\n",
       "      <th>embarked</th>\n",
       "    </tr>\n",
       "  </thead>\n",
       "  <tbody>\n",
       "    <tr>\n",
       "      <th>0</th>\n",
       "      <td>22.0</td>\n",
       "      <td>Southampton</td>\n",
       "      <td>S</td>\n",
       "    </tr>\n",
       "    <tr>\n",
       "      <th>1</th>\n",
       "      <td>38.0</td>\n",
       "      <td>Cherbourg</td>\n",
       "      <td>C</td>\n",
       "    </tr>\n",
       "    <tr>\n",
       "      <th>2</th>\n",
       "      <td>26.0</td>\n",
       "      <td>Southampton</td>\n",
       "      <td>S</td>\n",
       "    </tr>\n",
       "    <tr>\n",
       "      <th>3</th>\n",
       "      <td>35.0</td>\n",
       "      <td>Southampton</td>\n",
       "      <td>S</td>\n",
       "    </tr>\n",
       "    <tr>\n",
       "      <th>4</th>\n",
       "      <td>35.0</td>\n",
       "      <td>Southampton</td>\n",
       "      <td>S</td>\n",
       "    </tr>\n",
       "    <tr>\n",
       "      <th>5</th>\n",
       "      <td>28.0</td>\n",
       "      <td>Queenstown</td>\n",
       "      <td>Q</td>\n",
       "    </tr>\n",
       "    <tr>\n",
       "      <th>6</th>\n",
       "      <td>54.0</td>\n",
       "      <td>Southampton</td>\n",
       "      <td>S</td>\n",
       "    </tr>\n",
       "    <tr>\n",
       "      <th>7</th>\n",
       "      <td>2.0</td>\n",
       "      <td>Southampton</td>\n",
       "      <td>S</td>\n",
       "    </tr>\n",
       "    <tr>\n",
       "      <th>8</th>\n",
       "      <td>27.0</td>\n",
       "      <td>Southampton</td>\n",
       "      <td>S</td>\n",
       "    </tr>\n",
       "    <tr>\n",
       "      <th>9</th>\n",
       "      <td>14.0</td>\n",
       "      <td>Cherbourg</td>\n",
       "      <td>C</td>\n",
       "    </tr>\n",
       "  </tbody>\n",
       "</table>\n",
       "</div>"
      ],
      "text/plain": [
       "    age  embark_town embarked\n",
       "0  22.0  Southampton        S\n",
       "1  38.0    Cherbourg        C\n",
       "2  26.0  Southampton        S\n",
       "3  35.0  Southampton        S\n",
       "4  35.0  Southampton        S\n",
       "5  28.0   Queenstown        Q\n",
       "6  54.0  Southampton        S\n",
       "7   2.0  Southampton        S\n",
       "8  27.0  Southampton        S\n",
       "9  14.0    Cherbourg        C"
      ]
     },
     "metadata": {},
     "output_type": "display_data"
    },
    {
     "name": "stdout",
     "output_type": "stream",
     "text": [
      "\n",
      "Top remaining nulls (if any):\n",
      "deck        688\n",
      "pclass        0\n",
      "survived      0\n",
      "age           0\n",
      "sibsp         0\n",
      "parch         0\n",
      "sex           0\n",
      "fare          0\n",
      "embarked      0\n",
      "who           0\n",
      "dtype: int64\n"
     ]
    }
   ],
   "source": [
    "# Focused null check on the columns we just handled\n",
    "print(\"Null counts (key columns after fill):\")\n",
    "print(titanic[['age', 'embark_town', 'embarked']].isnull().sum())\n",
    "\n",
    "# Quick peek to confirm values look reasonable\n",
    "print(\"\\nSample of filled columns:\")\n",
    "display(titanic[['age', 'embark_town', 'embarked']].head(10))\n",
    "\n",
    "# Optional: show overall remaining nulls to see what's left (e.g., 'deck')\n",
    "print(\"\\nTop remaining nulls (if any):\")\n",
    "print(titanic.isnull().sum().sort_values(ascending=False).head(10))\n"
   ]
  },
  {
   "cell_type": "markdown",
   "id": "828ed95e",
   "metadata": {},
   "source": [
    "#### Reflection 2.2\n",
    "- Why is median a reasonable choice for filling `age`?  \n",
    "   - It avoids skew from extreme ages.\n",
    "- Why do we fill `embark_town` / `embarked` with the mode?  \n",
    "  - It replaces missing locations with the most comon port."
   ]
  },
  {
   "cell_type": "markdown",
   "id": "254d1023",
   "metadata": {},
   "source": [
    "### 2.3 Feature Engineering\n",
    "We’ll create new derived variables that could improve prediction performance."
   ]
  },
  {
   "cell_type": "code",
   "execution_count": 214,
   "id": "d9f0158e",
   "metadata": {},
   "outputs": [],
   "source": [
    "# Add Family Size feature\n",
    "titanic['family_size'] = titanic['sibsp'] + titanic['parch'] + 1"
   ]
  },
  {
   "cell_type": "code",
   "execution_count": 215,
   "id": "0eca95a4",
   "metadata": {},
   "outputs": [],
   "source": [
    "# Convert categorical data to numeric\n",
    "titanic['sex'] = titanic['sex'].map({'male': 0, 'female': 1})\n",
    "titanic['embarked'] = titanic['embarked'].map({'C': 0, 'Q': 1, 'S': 2})\n"
   ]
  },
  {
   "cell_type": "code",
   "execution_count": 216,
   "id": "c9492a31",
   "metadata": {},
   "outputs": [],
   "source": [
    "# Convert 'alone' to integer\n",
    "titanic['alone'] = titanic['alone'].astype(int)\n"
   ]
  },
  {
   "cell_type": "code",
   "execution_count": 217,
   "id": "b7d6ae0c",
   "metadata": {},
   "outputs": [
    {
     "data": {
      "text/html": [
       "<div>\n",
       "<style scoped>\n",
       "    .dataframe tbody tr th:only-of-type {\n",
       "        vertical-align: middle;\n",
       "    }\n",
       "\n",
       "    .dataframe tbody tr th {\n",
       "        vertical-align: top;\n",
       "    }\n",
       "\n",
       "    .dataframe thead th {\n",
       "        text-align: right;\n",
       "    }\n",
       "</style>\n",
       "<table border=\"1\" class=\"dataframe\">\n",
       "  <thead>\n",
       "    <tr style=\"text-align: right;\">\n",
       "      <th></th>\n",
       "      <th>sibsp</th>\n",
       "      <th>parch</th>\n",
       "      <th>family_size</th>\n",
       "      <th>sex</th>\n",
       "      <th>embarked</th>\n",
       "      <th>alone</th>\n",
       "    </tr>\n",
       "  </thead>\n",
       "  <tbody>\n",
       "    <tr>\n",
       "      <th>0</th>\n",
       "      <td>1</td>\n",
       "      <td>0</td>\n",
       "      <td>2</td>\n",
       "      <td>0</td>\n",
       "      <td>2</td>\n",
       "      <td>0</td>\n",
       "    </tr>\n",
       "    <tr>\n",
       "      <th>1</th>\n",
       "      <td>1</td>\n",
       "      <td>0</td>\n",
       "      <td>2</td>\n",
       "      <td>1</td>\n",
       "      <td>0</td>\n",
       "      <td>0</td>\n",
       "    </tr>\n",
       "    <tr>\n",
       "      <th>2</th>\n",
       "      <td>0</td>\n",
       "      <td>0</td>\n",
       "      <td>1</td>\n",
       "      <td>1</td>\n",
       "      <td>2</td>\n",
       "      <td>1</td>\n",
       "    </tr>\n",
       "    <tr>\n",
       "      <th>3</th>\n",
       "      <td>1</td>\n",
       "      <td>0</td>\n",
       "      <td>2</td>\n",
       "      <td>1</td>\n",
       "      <td>2</td>\n",
       "      <td>0</td>\n",
       "    </tr>\n",
       "    <tr>\n",
       "      <th>4</th>\n",
       "      <td>0</td>\n",
       "      <td>0</td>\n",
       "      <td>1</td>\n",
       "      <td>0</td>\n",
       "      <td>2</td>\n",
       "      <td>1</td>\n",
       "    </tr>\n",
       "  </tbody>\n",
       "</table>\n",
       "</div>"
      ],
      "text/plain": [
       "   sibsp  parch  family_size  sex  embarked  alone\n",
       "0      1      0            2    0         2      0\n",
       "1      1      0            2    1         0      0\n",
       "2      0      0            1    1         2      1\n",
       "3      1      0            2    1         2      0\n",
       "4      0      0            1    0         2      1"
      ]
     },
     "metadata": {},
     "output_type": "display_data"
    },
    {
     "name": "stdout",
     "output_type": "stream",
     "text": [
      "\n",
      "Dtypes:\n",
      "sex            int64\n",
      "embarked       int64\n",
      "alone          int64\n",
      "family_size    int64\n",
      "dtype: object\n",
      "\n",
      "Unique values:\n",
      "sex: [0 1]\n",
      "embarked (coded): [2 0 1]\n",
      "alone: [0 1]\n",
      "\n",
      "Null counts (engineered columns):\n",
      "family_size    0\n",
      "sex            0\n",
      "embarked       0\n",
      "alone          0\n",
      "dtype: int64\n"
     ]
    }
   ],
   "source": [
    "# 1) Peek at the new / changed columns\n",
    "display(titanic[['sibsp','parch','family_size','sex','embarked','alone']].head())\n",
    "\n",
    "# 2) Check dtypes to ensure numeric conversion happened\n",
    "print(\"\\nDtypes:\")\n",
    "print(titanic[['sex','embarked','alone','family_size']].dtypes)\n",
    "\n",
    "# 3) Checks\n",
    "print(\"\\nUnique values:\")\n",
    "print(\"sex:\", titanic['sex'].unique())\n",
    "print(\"embarked (coded):\", titanic['embarked'].unique())\n",
    "print(\"alone:\", titanic['alone'].unique())\n",
    "\n",
    "# 4) Are there any NaNs left in the engineered columns?\n",
    "print(\"\\nNull counts (engineered columns):\")\n",
    "print(titanic[['family_size','sex','embarked','alone']].isnull().sum())\n"
   ]
  },
  {
   "cell_type": "markdown",
   "id": "2e89d295",
   "metadata": {},
   "source": [
    "#### Reflection 2.3\n",
    "1. Why might family size be useful for predicting survival? \n",
    "   - Larger families may be a sign of lower class and families may have chosen to stay together if they all could not get on the lifeboat together. \n",
    "3. Why convert categorical data to numeric?  \n",
    "   - Machine learning models cannot interpret text labels so it must be changed to numerica to perfom computations."
   ]
  },
  {
   "cell_type": "markdown",
   "id": "9aec115a",
   "metadata": {},
   "source": [
    "## 3. Feature Selection and Justification\n",
    "\n",
    "Goal: Identify which features (inputs) we’ll use to predict survival on the Titanic dataset, and define our target variable.\n",
    "\n",
    "### 3.1 Choose Features and Target\n",
    "We'll select features that are numeric and meaningful predictors of survival.  \n",
    "Based on earlier exploration and feature engineering, these include:\n",
    "\n",
    "- age – passengers’ age in years  \n",
    "- fare – the price paid for the ticket  \n",
    "- pclass – passenger class (1 = upper, 3 = lower)  \n",
    "- sex – encoded as 0 = male, 1 = female  \n",
    "- family_size – total family members aboard (engineered feature)\n",
    "\n",
    "The target variable will be:\n",
    "- survived – 0 = did not survive, 1 = survived\n"
   ]
  },
  {
   "cell_type": "code",
   "execution_count": 218,
   "id": "48b24f12",
   "metadata": {},
   "outputs": [
    {
     "data": {
      "text/html": [
       "<div>\n",
       "<style scoped>\n",
       "    .dataframe tbody tr th:only-of-type {\n",
       "        vertical-align: middle;\n",
       "    }\n",
       "\n",
       "    .dataframe tbody tr th {\n",
       "        vertical-align: top;\n",
       "    }\n",
       "\n",
       "    .dataframe thead th {\n",
       "        text-align: right;\n",
       "    }\n",
       "</style>\n",
       "<table border=\"1\" class=\"dataframe\">\n",
       "  <thead>\n",
       "    <tr style=\"text-align: right;\">\n",
       "      <th></th>\n",
       "      <th>age</th>\n",
       "      <th>fare</th>\n",
       "      <th>pclass</th>\n",
       "      <th>sex</th>\n",
       "      <th>family_size</th>\n",
       "    </tr>\n",
       "  </thead>\n",
       "  <tbody>\n",
       "    <tr>\n",
       "      <th>0</th>\n",
       "      <td>22.0</td>\n",
       "      <td>7.2500</td>\n",
       "      <td>3</td>\n",
       "      <td>0</td>\n",
       "      <td>2</td>\n",
       "    </tr>\n",
       "    <tr>\n",
       "      <th>1</th>\n",
       "      <td>38.0</td>\n",
       "      <td>71.2833</td>\n",
       "      <td>1</td>\n",
       "      <td>1</td>\n",
       "      <td>2</td>\n",
       "    </tr>\n",
       "    <tr>\n",
       "      <th>2</th>\n",
       "      <td>26.0</td>\n",
       "      <td>7.9250</td>\n",
       "      <td>3</td>\n",
       "      <td>1</td>\n",
       "      <td>1</td>\n",
       "    </tr>\n",
       "    <tr>\n",
       "      <th>3</th>\n",
       "      <td>35.0</td>\n",
       "      <td>53.1000</td>\n",
       "      <td>1</td>\n",
       "      <td>1</td>\n",
       "      <td>2</td>\n",
       "    </tr>\n",
       "    <tr>\n",
       "      <th>4</th>\n",
       "      <td>35.0</td>\n",
       "      <td>8.0500</td>\n",
       "      <td>3</td>\n",
       "      <td>0</td>\n",
       "      <td>1</td>\n",
       "    </tr>\n",
       "  </tbody>\n",
       "</table>\n",
       "</div>"
      ],
      "text/plain": [
       "    age     fare  pclass  sex  family_size\n",
       "0  22.0   7.2500       3    0            2\n",
       "1  38.0  71.2833       1    1            2\n",
       "2  26.0   7.9250       3    1            1\n",
       "3  35.0  53.1000       1    1            2\n",
       "4  35.0   8.0500       3    0            1"
      ]
     },
     "execution_count": 218,
     "metadata": {},
     "output_type": "execute_result"
    }
   ],
   "source": [
    "# Define features (X) and target (y)\n",
    "X = titanic[['age', 'fare', 'pclass', 'sex', 'family_size']]\n",
    "y = titanic['survived']\n",
    "\n",
    "# Display the first few rows to confirm\n",
    "X.head()\n"
   ]
  },
  {
   "cell_type": "markdown",
   "id": "b32eff23",
   "metadata": {},
   "source": [
    "### 3.2 Define X and y\n",
    "We’ve assigned:\n",
    "- X → the input features for prediction\n",
    "- y → the target variable representing survival (0 = no, 1 = yes)\n"
   ]
  },
  {
   "cell_type": "code",
   "execution_count": 219,
   "id": "c876aa33",
   "metadata": {},
   "outputs": [
    {
     "name": "stdout",
     "output_type": "stream",
     "text": [
      "Shape of X: (891, 5)\n",
      "Shape of y: (891,)\n",
      "\n",
      "Column names in X: ['age', 'fare', 'pclass', 'sex', 'family_size']\n"
     ]
    }
   ],
   "source": [
    "# Quick check: confirm dimensions and alignment\n",
    "print(\"Shape of X:\", X.shape)\n",
    "print(\"Shape of y:\", y.shape)\n",
    "print(\"\\nColumn names in X:\", list(X.columns))\n"
   ]
  },
  {
   "cell_type": "markdown",
   "id": "7dd16d9d",
   "metadata": {},
   "source": [
    "#### Reflection 3\n",
    "\n",
    "1. Why are these features selected?  \n",
    "   These features are primarily numeric and have logical relationships to survival:\n",
    "   - Passenger class and fare reflect socioeconomic status.\n",
    "   - Sex is historically linked to survival chances (“women and children first”).\n",
    "   - Family size captures group travel dynamics that might influence rescue likelihood.\n",
    "   - Age may indicate priority during evacuation.\n",
    "\n",
    "2. Which features are likely to be most predictive of survival?  \n",
    "   - Sex and passenger class are typically the strongest predictors, since women and first-class passengers were much more likely to survive.\n"
   ]
  },
  {
   "cell_type": "markdown",
   "id": "8b44c716",
   "metadata": {},
   "source": [
    "## 4. Splitting\n",
    "\n",
    "Goal: Split the dataset into training and test sets to prepare for model building and evaluation.\n",
    "\n",
    "We will first perform a basic random split, then a stratified split to maintain class balance between survivors and non-survivors.\n"
   ]
  },
  {
   "cell_type": "markdown",
   "id": "5f4b003b",
   "metadata": {},
   "source": [
    "### 4.1 Basic Train/Test Split\n",
    "We will randomly split the data into a training set (80%) and a test set (20%) using scikit-learn's train_test_split function.\n"
   ]
  },
  {
   "cell_type": "code",
   "execution_count": 220,
   "id": "81dffbd1",
   "metadata": {},
   "outputs": [
    {
     "name": "stdout",
     "output_type": "stream",
     "text": [
      "Train size: 712\n",
      "Test size: 179\n"
     ]
    }
   ],
   "source": [
    "from sklearn.model_selection import train_test_split\n",
    "\n",
    "# Perform a basic split\n",
    "train_set, test_set = train_test_split(titanic, test_size=0.2, random_state=123)\n",
    "\n",
    "# Display basic info about the split\n",
    "print('Train size:', len(train_set))\n",
    "print('Test size:', len(test_set))\n"
   ]
  },
  {
   "cell_type": "markdown",
   "id": "c2f0ba05",
   "metadata": {},
   "source": [
    "### 4.2 Check Class Distribution for Basic Split\n",
    "We will compare the proportion of survivors (1) and non-survivors (0) in the training and test sets to see if the balance is consistent.\n"
   ]
  },
  {
   "cell_type": "code",
   "execution_count": 221,
   "id": "99d6da88",
   "metadata": {},
   "outputs": [
    {
     "name": "stdout",
     "output_type": "stream",
     "text": [
      "Original class distribution:\n",
      "survived\n",
      "0    0.616162\n",
      "1    0.383838\n",
      "Name: proportion, dtype: float64\n",
      "\n",
      "Training set distribution:\n",
      "survived\n",
      "0    0.610955\n",
      "1    0.389045\n",
      "Name: proportion, dtype: float64\n",
      "\n",
      "Test set distribution:\n",
      "survived\n",
      "0    0.636872\n",
      "1    0.363128\n",
      "Name: proportion, dtype: float64\n"
     ]
    }
   ],
   "source": [
    "print(\"Original class distribution:\")\n",
    "print(titanic['survived'].value_counts(normalize=True))\n",
    "print(\"\\nTraining set distribution:\")\n",
    "print(train_set['survived'].value_counts(normalize=True))\n",
    "print(\"\\nTest set distribution:\")\n",
    "print(test_set['survived'].value_counts(normalize=True))\n"
   ]
  },
  {
   "cell_type": "markdown",
   "id": "2656eb0c",
   "metadata": {},
   "source": [
    "### 4.3 Stratified Train/Test Split\n",
    "To ensure that the proportion of survivors and non-survivors is preserved in both sets, we use StratifiedShuffleSplit. \n",
    "This method creates splits that maintain the same class ratios as the original dataset.\n"
   ]
  },
  {
   "cell_type": "code",
   "execution_count": 222,
   "id": "169b912e",
   "metadata": {},
   "outputs": [
    {
     "name": "stdout",
     "output_type": "stream",
     "text": [
      "Stratified train size: 712\n",
      "Stratified test size: 179\n"
     ]
    }
   ],
   "source": [
    "from sklearn.model_selection import StratifiedShuffleSplit\n",
    "\n",
    "splitter = StratifiedShuffleSplit(n_splits=1, test_size=0.2, random_state=123)\n",
    "\n",
    "for train_indices, test_indices in splitter.split(titanic, titanic['survived']):\n",
    "    strat_train_set = titanic.iloc[train_indices]\n",
    "    strat_test_set = titanic.iloc[test_indices]\n",
    "\n",
    "print('Stratified train size:', len(strat_train_set))\n",
    "print('Stratified test size:', len(strat_test_set))\n"
   ]
  },
  {
   "cell_type": "markdown",
   "id": "a6f2516d",
   "metadata": {},
   "source": [
    "### 4.4 Compare Class Distributions\n",
    "We will now compare the original class distribution with both the random and stratified splits to confirm that stratification produces a closer match.\n"
   ]
  },
  {
   "cell_type": "code",
   "execution_count": 223,
   "id": "50869435",
   "metadata": {},
   "outputs": [
    {
     "name": "stdout",
     "output_type": "stream",
     "text": [
      "Original class distribution:\n",
      "survived\n",
      "0    0.616162\n",
      "1    0.383838\n",
      "Name: proportion, dtype: float64\n",
      "\n",
      "Basic split (train) class distribution:\n",
      "survived\n",
      "0    0.610955\n",
      "1    0.389045\n",
      "Name: proportion, dtype: float64\n",
      "\n",
      "Basic split (test) class distribution:\n",
      "survived\n",
      "0    0.636872\n",
      "1    0.363128\n",
      "Name: proportion, dtype: float64\n",
      "\n",
      "Stratified split (train) class distribution:\n",
      "survived\n",
      "0    0.616573\n",
      "1    0.383427\n",
      "Name: proportion, dtype: float64\n",
      "\n",
      "Stratified split (test) class distribution:\n",
      "survived\n",
      "0    0.614525\n",
      "1    0.385475\n",
      "Name: proportion, dtype: float64\n"
     ]
    }
   ],
   "source": [
    "print(\"Original class distribution:\")\n",
    "print(titanic['survived'].value_counts(normalize=True))\n",
    "print(\"\\nBasic split (train) class distribution:\")\n",
    "print(train_set['survived'].value_counts(normalize=True))\n",
    "print(\"\\nBasic split (test) class distribution:\")\n",
    "print(test_set['survived'].value_counts(normalize=True))\n",
    "print(\"\\nStratified split (train) class distribution:\")\n",
    "print(strat_train_set['survived'].value_counts(normalize=True))\n",
    "print(\"\\nStratified split (test) class distribution:\")\n",
    "print(strat_test_set['survived'].value_counts(normalize=True))\n"
   ]
  },
  {
   "cell_type": "markdown",
   "id": "ba17b949",
   "metadata": {},
   "source": [
    "#### Reflection 4\n",
    "\n",
    "1. Why might stratification improve model performance?  \n",
    "   Stratification ensures the training and test sets reflect the same proportions of survivors and non-survivors, helping the model generalize more accurately.\n",
    "\n",
    "2. How close are the training and test distributions to the original dataset?  \n",
    "   The stratified split closely matches the original distribution, while the basic split may differ slightly due to random sampling.\n",
    "\n",
    "3. Which split method produced better class balance?  \n",
    "   The stratified split produced a more balanced and representative dataset, making it preferable for most modeling tasks.\n"
   ]
  },
  {
   "cell_type": "markdown",
   "id": "6f06b051",
   "metadata": {},
   "source": [
    "## 5. Conclusion\n",
    "\n",
    "Goal: Summarize the key findings from the Titanic data preparation process and reflect on what was learned.\n",
    "\n",
    "### 5.1 Summary\n",
    "In this project, we performed a complete data preparation workflow on the Titanic dataset.\n",
    "\n",
    "Steps included:\n",
    "- Importing and inspecting the dataset using pandas and seaborn\n",
    "- Exploring relationships with scatter plots, histograms, and count plots\n",
    "- Cleaning missing values using median and mode\n",
    "- Engineering new features such as family_size\n",
    "- Encoding categorical variables into numeric form\n",
    "- Splitting the data into training and test sets using both basic and stratified methods\n",
    "\n",
    "The resulting dataset is fully numeric, clean, and ready for model training in the next phase.\n"
   ]
  },
  {
   "cell_type": "markdown",
   "id": "0fda4c09",
   "metadata": {},
   "source": [
    "### 5.2 Next Steps\n",
    "The cleaned and prepared dataset can now be used to build classification models predicting survival on the Titanic.  \n",
    "Possible next steps include:\n",
    "\n",
    "- Applying logistic regression or decision trees for prediction  \n",
    "- Evaluating model accuracy using the stratified data splits  \n",
    "- Performing feature importance analysis to determine which variables contribute most to survival\n"
   ]
  }
 ],
 "metadata": {
  "kernelspec": {
   "display_name": "ml-bethspornitz",
   "language": "python",
   "name": "python3"
  },
  "language_info": {
   "codemirror_mode": {
    "name": "ipython",
    "version": 3
   },
   "file_extension": ".py",
   "mimetype": "text/x-python",
   "name": "python",
   "nbconvert_exporter": "python",
   "pygments_lexer": "ipython3",
   "version": "3.12.5"
  }
 },
 "nbformat": 4,
 "nbformat_minor": 5
}
