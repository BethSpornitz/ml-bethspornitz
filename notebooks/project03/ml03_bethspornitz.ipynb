{
 "cells": [
  {
   "cell_type": "markdown",
   "id": "f74b4032",
   "metadata": {},
   "source": [
    "# Project 3 – Predicting a Categorical Target and Evaluating Performance  \n",
    "**Dataset:** Titanic  \n",
    "**Author:** Beth Spornitz  \n",
    "**Date:** November 1, 2025\n",
    "\n",
    "### Introduction  \n",
    "We will use the Titanic dataset to predict passenger survival using 3 methods:\n",
    "- Decision Tree\n",
    "- Support Vector Machine\n",
    "- Neural Network  \n",
    "\n",
    "We will compare their performance across three feature sets and refelct on each. \n"
   ]
  },
  {
   "cell_type": "code",
   "execution_count": null,
   "id": "95901c56",
   "metadata": {
    "vscode": {
     "languageId": "plaintext"
    }
   },
   "outputs": [],
   "source": [
    "# Section 1. Import and Inspect the Data\n",
    "# Step 1: Import all required libraries\n",
    "# Step 2: Load Titanic dataset from seaborn\n",
    "# Step 3: Display first few rows\n"
   ]
  },
  {
   "cell_type": "markdown",
   "id": "6cd2d6bd",
   "metadata": {},
   "source": [
    "# Section 2. Data Exploration and Preparation\n",
    "# 2.1 Handle Missing Values and Clean Data\n",
    "# - Fill missing ages with median\n",
    "# - Fill missing embark_town with mode\n"
   ]
  }
 ],
 "metadata": {
  "language_info": {
   "name": "python"
  }
 },
 "nbformat": 4,
 "nbformat_minor": 5
}
